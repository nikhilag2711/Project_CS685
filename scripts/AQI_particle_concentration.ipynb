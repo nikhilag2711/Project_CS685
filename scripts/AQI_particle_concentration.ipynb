{
 "cells": [
  {
   "cell_type": "code",
   "execution_count": 1,
   "metadata": {},
   "outputs": [],
   "source": [
    "import pandas as pd\n",
    "import numpy as np\n",
    "import matplotlib.pyplot as plt\n",
    "import plotly.express as px\n",
    "\n",
    "import aqi_calculator as aqic\n",
    "\n",
    "plt.style.use('seaborn')"
   ]
  },
  {
   "cell_type": "code",
   "execution_count": 2,
   "metadata": {},
   "outputs": [
    {
     "name": "stdout",
     "output_type": "stream",
     "text": [
      "<class 'pandas.core.frame.DataFrame'>\n",
      "RangeIndex: 39047 entries, 0 to 39046\n",
      "Data columns (total 15 columns):\n",
      " #   Column      Non-Null Count  Dtype  \n",
      "---  ------      --------------  -----  \n",
      " 0   City        39047 non-null  object \n",
      " 1   Date        39047 non-null  object \n",
      " 2   PM2.5       33649 non-null  float64\n",
      " 3   PM10        27443 non-null  float64\n",
      " 4   NO          34764 non-null  float64\n",
      " 5   NO2         34912 non-null  float64\n",
      " 6   NOx         34128 non-null  float64\n",
      " 7   NH3         27752 non-null  float64\n",
      " 8   CO          36398 non-null  float64\n",
      " 9   SO2         34751 non-null  float64\n",
      " 10  O3          34157 non-null  float64\n",
      " 11  Benzene     30407 non-null  float64\n",
      " 12  Toluene     27321 non-null  float64\n",
      " 13  AQI         33830 non-null  float64\n",
      " 14  AQI_Bucket  33830 non-null  object \n",
      "dtypes: float64(12), object(3)\n",
      "memory usage: 4.5+ MB\n"
     ]
    }
   ],
   "source": [
    "city_df = pd.read_csv('../data/comparison_city_day.csv')\n",
    "city_df.info()"
   ]
  },
  {
   "cell_type": "code",
   "execution_count": 3,
   "metadata": {},
   "outputs": [
    {
     "data": {
      "text/plain": [
       "PM10       24070\n",
       "PM2.5       5277\n",
       "O3          2348\n",
       "NOx         1985\n",
       "NH3         1309\n",
       "NO2          691\n",
       "CO           582\n",
       "SO2          364\n",
       "Benzene      241\n",
       "NO           223\n",
       "Toluene      108\n",
       "Name: Max_particle, dtype: int64"
      ]
     },
     "execution_count": 3,
     "metadata": {},
     "output_type": "execute_result"
    }
   ],
   "source": [
    "city_max_df = city_df.drop(columns=[\"AQI\", \"AQI_Bucket\"])\n",
    "\n",
    "# This gives us the particle for which there is max concentration in each city for each day\n",
    "city_max_df[\"Max_particle\"] = city_max_df[['PM2.5', 'PM10', 'NO', 'NO2', 'NOx', 'NH3', 'CO', 'SO2', 'O3', 'Benzene', 'Toluene']].idxmax(axis=1)\n",
    "city_max_df.Max_particle.value_counts()"
   ]
  },
  {
   "cell_type": "code",
   "execution_count": 4,
   "metadata": {},
   "outputs": [
    {
     "data": {
      "text/html": [
       "<div>\n",
       "<style scoped>\n",
       "    .dataframe tbody tr th:only-of-type {\n",
       "        vertical-align: middle;\n",
       "    }\n",
       "\n",
       "    .dataframe tbody tr th {\n",
       "        vertical-align: top;\n",
       "    }\n",
       "\n",
       "    .dataframe thead th {\n",
       "        text-align: right;\n",
       "    }\n",
       "</style>\n",
       "<table border=\"1\" class=\"dataframe\">\n",
       "  <thead>\n",
       "    <tr style=\"text-align: right;\">\n",
       "      <th></th>\n",
       "      <th>City</th>\n",
       "      <th>Date</th>\n",
       "      <th>PM10_24hr_avg</th>\n",
       "      <th>PM2.5_24hr_avg</th>\n",
       "      <th>SO2_24hr_avg</th>\n",
       "      <th>NOx_24hr_avg</th>\n",
       "      <th>NH3_24hr_avg</th>\n",
       "      <th>CO_8hr_max</th>\n",
       "      <th>O3_8hr_max</th>\n",
       "    </tr>\n",
       "  </thead>\n",
       "  <tbody>\n",
       "    <tr>\n",
       "      <th>0</th>\n",
       "      <td>Ahmedabad</td>\n",
       "      <td>2015-01-01</td>\n",
       "      <td>NaN</td>\n",
       "      <td>NaN</td>\n",
       "      <td>NaN</td>\n",
       "      <td>NaN</td>\n",
       "      <td>NaN</td>\n",
       "      <td>0.92000</td>\n",
       "      <td>133.36000</td>\n",
       "    </tr>\n",
       "    <tr>\n",
       "      <th>1</th>\n",
       "      <td>Ahmedabad</td>\n",
       "      <td>2015-01-02</td>\n",
       "      <td>NaN</td>\n",
       "      <td>NaN</td>\n",
       "      <td>NaN</td>\n",
       "      <td>NaN</td>\n",
       "      <td>NaN</td>\n",
       "      <td>0.94500</td>\n",
       "      <td>83.71000</td>\n",
       "    </tr>\n",
       "    <tr>\n",
       "      <th>2</th>\n",
       "      <td>Ahmedabad</td>\n",
       "      <td>2015-01-03</td>\n",
       "      <td>NaN</td>\n",
       "      <td>NaN</td>\n",
       "      <td>NaN</td>\n",
       "      <td>NaN</td>\n",
       "      <td>NaN</td>\n",
       "      <td>6.43000</td>\n",
       "      <td>66.04000</td>\n",
       "    </tr>\n",
       "    <tr>\n",
       "      <th>3</th>\n",
       "      <td>Ahmedabad</td>\n",
       "      <td>2015-01-04</td>\n",
       "      <td>NaN</td>\n",
       "      <td>NaN</td>\n",
       "      <td>NaN</td>\n",
       "      <td>NaN</td>\n",
       "      <td>NaN</td>\n",
       "      <td>5.24750</td>\n",
       "      <td>58.55000</td>\n",
       "    </tr>\n",
       "    <tr>\n",
       "      <th>4</th>\n",
       "      <td>Ahmedabad</td>\n",
       "      <td>2015-01-05</td>\n",
       "      <td>NaN</td>\n",
       "      <td>NaN</td>\n",
       "      <td>NaN</td>\n",
       "      <td>NaN</td>\n",
       "      <td>NaN</td>\n",
       "      <td>8.61800</td>\n",
       "      <td>54.70200</td>\n",
       "    </tr>\n",
       "    <tr>\n",
       "      <th>...</th>\n",
       "      <td>...</td>\n",
       "      <td>...</td>\n",
       "      <td>...</td>\n",
       "      <td>...</td>\n",
       "      <td>...</td>\n",
       "      <td>...</td>\n",
       "      <td>...</td>\n",
       "      <td>...</td>\n",
       "      <td>...</td>\n",
       "    </tr>\n",
       "    <tr>\n",
       "      <th>39042</th>\n",
       "      <td>Visakhapatnam</td>\n",
       "      <td>2021-06-27</td>\n",
       "      <td>99.677917</td>\n",
       "      <td>32.797083</td>\n",
       "      <td>9.484583</td>\n",
       "      <td>30.636667</td>\n",
       "      <td>18.128750</td>\n",
       "      <td>0.62875</td>\n",
       "      <td>8.34500</td>\n",
       "    </tr>\n",
       "    <tr>\n",
       "      <th>39043</th>\n",
       "      <td>Visakhapatnam</td>\n",
       "      <td>2021-06-28</td>\n",
       "      <td>98.625000</td>\n",
       "      <td>32.306667</td>\n",
       "      <td>9.358750</td>\n",
       "      <td>30.405833</td>\n",
       "      <td>18.336667</td>\n",
       "      <td>0.62000</td>\n",
       "      <td>8.57750</td>\n",
       "    </tr>\n",
       "    <tr>\n",
       "      <th>39044</th>\n",
       "      <td>Visakhapatnam</td>\n",
       "      <td>2021-06-29</td>\n",
       "      <td>99.997083</td>\n",
       "      <td>32.862083</td>\n",
       "      <td>9.297917</td>\n",
       "      <td>30.512917</td>\n",
       "      <td>18.585417</td>\n",
       "      <td>0.60875</td>\n",
       "      <td>8.34875</td>\n",
       "    </tr>\n",
       "    <tr>\n",
       "      <th>39045</th>\n",
       "      <td>Visakhapatnam</td>\n",
       "      <td>2021-06-30</td>\n",
       "      <td>102.282917</td>\n",
       "      <td>33.646250</td>\n",
       "      <td>9.118333</td>\n",
       "      <td>30.699167</td>\n",
       "      <td>18.791667</td>\n",
       "      <td>0.62125</td>\n",
       "      <td>8.29500</td>\n",
       "    </tr>\n",
       "    <tr>\n",
       "      <th>39046</th>\n",
       "      <td>Visakhapatnam</td>\n",
       "      <td>2021-07-01</td>\n",
       "      <td>102.475000</td>\n",
       "      <td>33.676667</td>\n",
       "      <td>9.085833</td>\n",
       "      <td>30.879167</td>\n",
       "      <td>19.002500</td>\n",
       "      <td>0.55375</td>\n",
       "      <td>8.26750</td>\n",
       "    </tr>\n",
       "  </tbody>\n",
       "</table>\n",
       "<p>39047 rows × 9 columns</p>\n",
       "</div>"
      ],
      "text/plain": [
       "                City        Date  PM10_24hr_avg  PM2.5_24hr_avg  SO2_24hr_avg  \\\n",
       "0          Ahmedabad  2015-01-01            NaN             NaN           NaN   \n",
       "1          Ahmedabad  2015-01-02            NaN             NaN           NaN   \n",
       "2          Ahmedabad  2015-01-03            NaN             NaN           NaN   \n",
       "3          Ahmedabad  2015-01-04            NaN             NaN           NaN   \n",
       "4          Ahmedabad  2015-01-05            NaN             NaN           NaN   \n",
       "...              ...         ...            ...             ...           ...   \n",
       "39042  Visakhapatnam  2021-06-27      99.677917       32.797083      9.484583   \n",
       "39043  Visakhapatnam  2021-06-28      98.625000       32.306667      9.358750   \n",
       "39044  Visakhapatnam  2021-06-29      99.997083       32.862083      9.297917   \n",
       "39045  Visakhapatnam  2021-06-30     102.282917       33.646250      9.118333   \n",
       "39046  Visakhapatnam  2021-07-01     102.475000       33.676667      9.085833   \n",
       "\n",
       "       NOx_24hr_avg  NH3_24hr_avg  CO_8hr_max  O3_8hr_max  \n",
       "0               NaN           NaN     0.92000   133.36000  \n",
       "1               NaN           NaN     0.94500    83.71000  \n",
       "2               NaN           NaN     6.43000    66.04000  \n",
       "3               NaN           NaN     5.24750    58.55000  \n",
       "4               NaN           NaN     8.61800    54.70200  \n",
       "...             ...           ...         ...         ...  \n",
       "39042     30.636667     18.128750     0.62875     8.34500  \n",
       "39043     30.405833     18.336667     0.62000     8.57750  \n",
       "39044     30.512917     18.585417     0.60875     8.34875  \n",
       "39045     30.699167     18.791667     0.62125     8.29500  \n",
       "39046     30.879167     19.002500     0.55375     8.26750  \n",
       "\n",
       "[39047 rows x 9 columns]"
      ]
     },
     "execution_count": 4,
     "metadata": {},
     "output_type": "execute_result"
    }
   ],
   "source": [
    "# Calculating the 24 hour average and 8 hour maximum for finding subindex\n",
    "city_subindex_df = city_df\n",
    "city_subindex_df[\"PM10_24hr_avg\"] = city_subindex_df.groupby(\"City\")[\"PM10\"].rolling(window = 24, min_periods = 16).mean().values\n",
    "city_subindex_df[\"PM2.5_24hr_avg\"] = city_subindex_df.groupby(\"City\")[\"PM2.5\"].rolling(window = 24, min_periods = 16).mean().values\n",
    "city_subindex_df[\"SO2_24hr_avg\"] = city_subindex_df.groupby(\"City\")[\"SO2\"].rolling(window = 24, min_periods = 16).mean().values\n",
    "city_subindex_df[\"NOx_24hr_avg\"] = city_subindex_df.groupby(\"City\")[\"NOx\"].rolling(window = 24, min_periods = 16).mean().values\n",
    "city_subindex_df[\"NH3_24hr_avg\"] = city_subindex_df.groupby(\"City\")[\"NH3\"].rolling(window = 24, min_periods = 16).mean().values\n",
    "city_subindex_df[\"CO_8hr_max\"] = city_subindex_df.groupby(\"City\")[\"CO\"].rolling(window = 8, min_periods = 1).mean().values\n",
    "city_subindex_df[\"O3_8hr_max\"] = city_subindex_df.groupby(\"City\")[\"O3\"].rolling(window = 8, min_periods = 1).mean().values\n",
    "\n",
    "city_subindex_df = city_subindex_df.drop(columns = [\"PM10\", \"PM2.5\", \"SO2\", \"NOx\", \"NH3\", \"CO\", \"O3\", \"NO\", \"NO2\", \"Benzene\", \"Toluene\", \"AQI\", \"AQI_Bucket\"])\n",
    "city_subindex_df"
   ]
  },
  {
   "cell_type": "code",
   "execution_count": 5,
   "metadata": {},
   "outputs": [
    {
     "data": {
      "text/html": [
       "<div>\n",
       "<style scoped>\n",
       "    .dataframe tbody tr th:only-of-type {\n",
       "        vertical-align: middle;\n",
       "    }\n",
       "\n",
       "    .dataframe tbody tr th {\n",
       "        vertical-align: top;\n",
       "    }\n",
       "\n",
       "    .dataframe thead th {\n",
       "        text-align: right;\n",
       "    }\n",
       "</style>\n",
       "<table border=\"1\" class=\"dataframe\">\n",
       "  <thead>\n",
       "    <tr style=\"text-align: right;\">\n",
       "      <th></th>\n",
       "      <th>City</th>\n",
       "      <th>Date</th>\n",
       "      <th>PM2.5_subindex</th>\n",
       "      <th>PM10_subindex</th>\n",
       "      <th>SO2_subindex</th>\n",
       "      <th>NOx_subindex</th>\n",
       "      <th>NH3_subindex</th>\n",
       "      <th>CO_subindex</th>\n",
       "      <th>O3_subindex</th>\n",
       "    </tr>\n",
       "  </thead>\n",
       "  <tbody>\n",
       "    <tr>\n",
       "      <th>0</th>\n",
       "      <td>Ahmedabad</td>\n",
       "      <td>2015-01-01</td>\n",
       "      <td>0.000000</td>\n",
       "      <td>0.000000</td>\n",
       "      <td>0.000000</td>\n",
       "      <td>0.000000</td>\n",
       "      <td>0.000000</td>\n",
       "      <td>46.00000</td>\n",
       "      <td>149.058824</td>\n",
       "    </tr>\n",
       "    <tr>\n",
       "      <th>1</th>\n",
       "      <td>Ahmedabad</td>\n",
       "      <td>2015-01-02</td>\n",
       "      <td>0.000000</td>\n",
       "      <td>0.000000</td>\n",
       "      <td>0.000000</td>\n",
       "      <td>0.000000</td>\n",
       "      <td>0.000000</td>\n",
       "      <td>47.25000</td>\n",
       "      <td>83.710000</td>\n",
       "    </tr>\n",
       "    <tr>\n",
       "      <th>2</th>\n",
       "      <td>Ahmedabad</td>\n",
       "      <td>2015-01-03</td>\n",
       "      <td>0.000000</td>\n",
       "      <td>0.000000</td>\n",
       "      <td>0.000000</td>\n",
       "      <td>0.000000</td>\n",
       "      <td>0.000000</td>\n",
       "      <td>155.37500</td>\n",
       "      <td>66.040000</td>\n",
       "    </tr>\n",
       "    <tr>\n",
       "      <th>3</th>\n",
       "      <td>Ahmedabad</td>\n",
       "      <td>2015-01-04</td>\n",
       "      <td>0.000000</td>\n",
       "      <td>0.000000</td>\n",
       "      <td>0.000000</td>\n",
       "      <td>0.000000</td>\n",
       "      <td>0.000000</td>\n",
       "      <td>140.59375</td>\n",
       "      <td>58.550000</td>\n",
       "    </tr>\n",
       "    <tr>\n",
       "      <th>4</th>\n",
       "      <td>Ahmedabad</td>\n",
       "      <td>2015-01-05</td>\n",
       "      <td>0.000000</td>\n",
       "      <td>0.000000</td>\n",
       "      <td>0.000000</td>\n",
       "      <td>0.000000</td>\n",
       "      <td>0.000000</td>\n",
       "      <td>182.72500</td>\n",
       "      <td>54.702000</td>\n",
       "    </tr>\n",
       "    <tr>\n",
       "      <th>...</th>\n",
       "      <td>...</td>\n",
       "      <td>...</td>\n",
       "      <td>...</td>\n",
       "      <td>...</td>\n",
       "      <td>...</td>\n",
       "      <td>...</td>\n",
       "      <td>...</td>\n",
       "      <td>...</td>\n",
       "      <td>...</td>\n",
       "    </tr>\n",
       "    <tr>\n",
       "      <th>39042</th>\n",
       "      <td>Visakhapatnam</td>\n",
       "      <td>2021-06-27</td>\n",
       "      <td>54.661806</td>\n",
       "      <td>99.677917</td>\n",
       "      <td>11.855729</td>\n",
       "      <td>38.295833</td>\n",
       "      <td>4.532188</td>\n",
       "      <td>31.43750</td>\n",
       "      <td>8.345000</td>\n",
       "    </tr>\n",
       "    <tr>\n",
       "      <th>39043</th>\n",
       "      <td>Visakhapatnam</td>\n",
       "      <td>2021-06-28</td>\n",
       "      <td>53.844444</td>\n",
       "      <td>98.625000</td>\n",
       "      <td>11.698437</td>\n",
       "      <td>38.007292</td>\n",
       "      <td>4.584167</td>\n",
       "      <td>31.00000</td>\n",
       "      <td>8.577500</td>\n",
       "    </tr>\n",
       "    <tr>\n",
       "      <th>39044</th>\n",
       "      <td>Visakhapatnam</td>\n",
       "      <td>2021-06-29</td>\n",
       "      <td>54.770139</td>\n",
       "      <td>99.997083</td>\n",
       "      <td>11.622396</td>\n",
       "      <td>38.141146</td>\n",
       "      <td>4.646354</td>\n",
       "      <td>30.43750</td>\n",
       "      <td>8.348750</td>\n",
       "    </tr>\n",
       "    <tr>\n",
       "      <th>39045</th>\n",
       "      <td>Visakhapatnam</td>\n",
       "      <td>2021-06-30</td>\n",
       "      <td>56.077083</td>\n",
       "      <td>101.521944</td>\n",
       "      <td>11.397917</td>\n",
       "      <td>38.373958</td>\n",
       "      <td>4.697917</td>\n",
       "      <td>31.06250</td>\n",
       "      <td>8.295000</td>\n",
       "    </tr>\n",
       "    <tr>\n",
       "      <th>39046</th>\n",
       "      <td>Visakhapatnam</td>\n",
       "      <td>2021-07-01</td>\n",
       "      <td>56.127778</td>\n",
       "      <td>101.650000</td>\n",
       "      <td>11.357292</td>\n",
       "      <td>38.598958</td>\n",
       "      <td>4.750625</td>\n",
       "      <td>27.68750</td>\n",
       "      <td>8.267500</td>\n",
       "    </tr>\n",
       "  </tbody>\n",
       "</table>\n",
       "<p>39047 rows × 9 columns</p>\n",
       "</div>"
      ],
      "text/plain": [
       "                City        Date  PM2.5_subindex  PM10_subindex  SO2_subindex  \\\n",
       "0          Ahmedabad  2015-01-01        0.000000       0.000000      0.000000   \n",
       "1          Ahmedabad  2015-01-02        0.000000       0.000000      0.000000   \n",
       "2          Ahmedabad  2015-01-03        0.000000       0.000000      0.000000   \n",
       "3          Ahmedabad  2015-01-04        0.000000       0.000000      0.000000   \n",
       "4          Ahmedabad  2015-01-05        0.000000       0.000000      0.000000   \n",
       "...              ...         ...             ...            ...           ...   \n",
       "39042  Visakhapatnam  2021-06-27       54.661806      99.677917     11.855729   \n",
       "39043  Visakhapatnam  2021-06-28       53.844444      98.625000     11.698437   \n",
       "39044  Visakhapatnam  2021-06-29       54.770139      99.997083     11.622396   \n",
       "39045  Visakhapatnam  2021-06-30       56.077083     101.521944     11.397917   \n",
       "39046  Visakhapatnam  2021-07-01       56.127778     101.650000     11.357292   \n",
       "\n",
       "       NOx_subindex  NH3_subindex  CO_subindex  O3_subindex  \n",
       "0          0.000000      0.000000     46.00000   149.058824  \n",
       "1          0.000000      0.000000     47.25000    83.710000  \n",
       "2          0.000000      0.000000    155.37500    66.040000  \n",
       "3          0.000000      0.000000    140.59375    58.550000  \n",
       "4          0.000000      0.000000    182.72500    54.702000  \n",
       "...             ...           ...          ...          ...  \n",
       "39042     38.295833      4.532188     31.43750     8.345000  \n",
       "39043     38.007292      4.584167     31.00000     8.577500  \n",
       "39044     38.141146      4.646354     30.43750     8.348750  \n",
       "39045     38.373958      4.697917     31.06250     8.295000  \n",
       "39046     38.598958      4.750625     27.68750     8.267500  \n",
       "\n",
       "[39047 rows x 9 columns]"
      ]
     },
     "execution_count": 5,
     "metadata": {},
     "output_type": "execute_result"
    }
   ],
   "source": [
    "# Calculating subindexes.\n",
    "city_subindex_df[\"PM2.5_subindex\"] = city_subindex_df[\"PM2.5_24hr_avg\"].apply(lambda x: aqic.PM25_subindex(x))\n",
    "city_subindex_df[\"PM10_subindex\"] = city_subindex_df[\"PM10_24hr_avg\"].apply(lambda x: aqic.PM10_subindex(x))\n",
    "city_subindex_df[\"SO2_subindex\"] = city_subindex_df[\"SO2_24hr_avg\"].apply(lambda x: aqic.SO2_subindex(x))\n",
    "city_subindex_df[\"NOx_subindex\"] = city_subindex_df[\"NOx_24hr_avg\"].apply(lambda x: aqic.NOx_subindex(x))\n",
    "city_subindex_df[\"NH3_subindex\"] = city_subindex_df[\"NH3_24hr_avg\"].apply(lambda x: aqic.NH3_subindex(x))\n",
    "city_subindex_df[\"CO_subindex\"] = city_subindex_df[\"CO_8hr_max\"].apply(lambda x: aqic.CO_subindex(x))\n",
    "city_subindex_df[\"O3_subindex\"] = city_subindex_df[\"O3_8hr_max\"].apply(lambda x: aqic.O3_subindex(x))\n",
    "\n",
    "city_subindex_df = city_subindex_df.drop(columns=[\"PM2.5_24hr_avg\", \"PM10_24hr_avg\", \"SO2_24hr_avg\", \"NOx_24hr_avg\", \"NH3_24hr_avg\", \"CO_8hr_max\", \"O3_8hr_max\"])\n",
    "city_subindex_df"
   ]
  },
  {
   "cell_type": "code",
   "execution_count": 6,
   "metadata": {},
   "outputs": [
    {
     "data": {
      "text/plain": [
       "PM10_subindex     15780\n",
       "PM2.5_subindex    14957\n",
       "CO_subindex        5530\n",
       "NOx_subindex       1505\n",
       "O3_subindex        1232\n",
       "SO2_subindex         41\n",
       "NH3_subindex          2\n",
       "Name: Max_particle_subindex, dtype: int64"
      ]
     },
     "execution_count": 6,
     "metadata": {},
     "output_type": "execute_result"
    }
   ],
   "source": [
    "# This gives us the number of dates and cities for each particle when its concentration (or subindex to be precise) was the highest.\n",
    "city_subindex_df[\"Max_particle_subindex\"] = city_subindex_df[['PM2.5_subindex', 'PM10_subindex', 'SO2_subindex', 'NOx_subindex', 'NH3_subindex', 'CO_subindex', 'O3_subindex']].idxmax(axis=1)\n",
    "city_subindex_df.Max_particle_subindex.value_counts()"
   ]
  },
  {
   "cell_type": "code",
   "execution_count": 7,
   "metadata": {},
   "outputs": [
    {
     "data": {
      "text/html": [
       "<div>\n",
       "<style scoped>\n",
       "    .dataframe tbody tr th:only-of-type {\n",
       "        vertical-align: middle;\n",
       "    }\n",
       "\n",
       "    .dataframe tbody tr th {\n",
       "        vertical-align: top;\n",
       "    }\n",
       "\n",
       "    .dataframe thead th {\n",
       "        text-align: right;\n",
       "    }\n",
       "</style>\n",
       "<table border=\"1\" class=\"dataframe\">\n",
       "  <thead>\n",
       "    <tr style=\"text-align: right;\">\n",
       "      <th></th>\n",
       "      <th>City</th>\n",
       "      <th>Date</th>\n",
       "      <th>PM2.5_subindex</th>\n",
       "      <th>PM10_subindex</th>\n",
       "      <th>SO2_subindex</th>\n",
       "      <th>NOx_subindex</th>\n",
       "      <th>NH3_subindex</th>\n",
       "      <th>CO_subindex</th>\n",
       "      <th>O3_subindex</th>\n",
       "      <th>Max_particle_subindex</th>\n",
       "    </tr>\n",
       "  </thead>\n",
       "  <tbody>\n",
       "    <tr>\n",
       "      <th>0</th>\n",
       "      <td>Ahmedabad</td>\n",
       "      <td>2015-01-01</td>\n",
       "      <td>NaN</td>\n",
       "      <td>NaN</td>\n",
       "      <td>NaN</td>\n",
       "      <td>NaN</td>\n",
       "      <td>NaN</td>\n",
       "      <td>46.00000</td>\n",
       "      <td>149.058824</td>\n",
       "      <td>O3_subindex</td>\n",
       "    </tr>\n",
       "    <tr>\n",
       "      <th>1</th>\n",
       "      <td>Ahmedabad</td>\n",
       "      <td>2015-01-02</td>\n",
       "      <td>NaN</td>\n",
       "      <td>NaN</td>\n",
       "      <td>NaN</td>\n",
       "      <td>NaN</td>\n",
       "      <td>NaN</td>\n",
       "      <td>47.25000</td>\n",
       "      <td>83.710000</td>\n",
       "      <td>O3_subindex</td>\n",
       "    </tr>\n",
       "    <tr>\n",
       "      <th>2</th>\n",
       "      <td>Ahmedabad</td>\n",
       "      <td>2015-01-03</td>\n",
       "      <td>NaN</td>\n",
       "      <td>NaN</td>\n",
       "      <td>NaN</td>\n",
       "      <td>NaN</td>\n",
       "      <td>NaN</td>\n",
       "      <td>155.37500</td>\n",
       "      <td>66.040000</td>\n",
       "      <td>CO_subindex</td>\n",
       "    </tr>\n",
       "    <tr>\n",
       "      <th>3</th>\n",
       "      <td>Ahmedabad</td>\n",
       "      <td>2015-01-04</td>\n",
       "      <td>NaN</td>\n",
       "      <td>NaN</td>\n",
       "      <td>NaN</td>\n",
       "      <td>NaN</td>\n",
       "      <td>NaN</td>\n",
       "      <td>140.59375</td>\n",
       "      <td>58.550000</td>\n",
       "      <td>CO_subindex</td>\n",
       "    </tr>\n",
       "    <tr>\n",
       "      <th>4</th>\n",
       "      <td>Ahmedabad</td>\n",
       "      <td>2015-01-05</td>\n",
       "      <td>NaN</td>\n",
       "      <td>NaN</td>\n",
       "      <td>NaN</td>\n",
       "      <td>NaN</td>\n",
       "      <td>NaN</td>\n",
       "      <td>182.72500</td>\n",
       "      <td>54.702000</td>\n",
       "      <td>CO_subindex</td>\n",
       "    </tr>\n",
       "    <tr>\n",
       "      <th>...</th>\n",
       "      <td>...</td>\n",
       "      <td>...</td>\n",
       "      <td>...</td>\n",
       "      <td>...</td>\n",
       "      <td>...</td>\n",
       "      <td>...</td>\n",
       "      <td>...</td>\n",
       "      <td>...</td>\n",
       "      <td>...</td>\n",
       "      <td>...</td>\n",
       "    </tr>\n",
       "    <tr>\n",
       "      <th>39042</th>\n",
       "      <td>Visakhapatnam</td>\n",
       "      <td>2021-06-27</td>\n",
       "      <td>54.661806</td>\n",
       "      <td>99.677917</td>\n",
       "      <td>11.855729</td>\n",
       "      <td>38.295833</td>\n",
       "      <td>4.532188</td>\n",
       "      <td>31.43750</td>\n",
       "      <td>8.345000</td>\n",
       "      <td>PM10_subindex</td>\n",
       "    </tr>\n",
       "    <tr>\n",
       "      <th>39043</th>\n",
       "      <td>Visakhapatnam</td>\n",
       "      <td>2021-06-28</td>\n",
       "      <td>53.844444</td>\n",
       "      <td>98.625000</td>\n",
       "      <td>11.698437</td>\n",
       "      <td>38.007292</td>\n",
       "      <td>4.584167</td>\n",
       "      <td>31.00000</td>\n",
       "      <td>8.577500</td>\n",
       "      <td>PM10_subindex</td>\n",
       "    </tr>\n",
       "    <tr>\n",
       "      <th>39044</th>\n",
       "      <td>Visakhapatnam</td>\n",
       "      <td>2021-06-29</td>\n",
       "      <td>54.770139</td>\n",
       "      <td>99.997083</td>\n",
       "      <td>11.622396</td>\n",
       "      <td>38.141146</td>\n",
       "      <td>4.646354</td>\n",
       "      <td>30.43750</td>\n",
       "      <td>8.348750</td>\n",
       "      <td>PM10_subindex</td>\n",
       "    </tr>\n",
       "    <tr>\n",
       "      <th>39045</th>\n",
       "      <td>Visakhapatnam</td>\n",
       "      <td>2021-06-30</td>\n",
       "      <td>56.077083</td>\n",
       "      <td>101.521944</td>\n",
       "      <td>11.397917</td>\n",
       "      <td>38.373958</td>\n",
       "      <td>4.697917</td>\n",
       "      <td>31.06250</td>\n",
       "      <td>8.295000</td>\n",
       "      <td>PM10_subindex</td>\n",
       "    </tr>\n",
       "    <tr>\n",
       "      <th>39046</th>\n",
       "      <td>Visakhapatnam</td>\n",
       "      <td>2021-07-01</td>\n",
       "      <td>56.127778</td>\n",
       "      <td>101.650000</td>\n",
       "      <td>11.357292</td>\n",
       "      <td>38.598958</td>\n",
       "      <td>4.750625</td>\n",
       "      <td>27.68750</td>\n",
       "      <td>8.267500</td>\n",
       "      <td>PM10_subindex</td>\n",
       "    </tr>\n",
       "  </tbody>\n",
       "</table>\n",
       "<p>39047 rows × 10 columns</p>\n",
       "</div>"
      ],
      "text/plain": [
       "                City        Date  PM2.5_subindex  PM10_subindex  SO2_subindex  \\\n",
       "0          Ahmedabad  2015-01-01             NaN            NaN           NaN   \n",
       "1          Ahmedabad  2015-01-02             NaN            NaN           NaN   \n",
       "2          Ahmedabad  2015-01-03             NaN            NaN           NaN   \n",
       "3          Ahmedabad  2015-01-04             NaN            NaN           NaN   \n",
       "4          Ahmedabad  2015-01-05             NaN            NaN           NaN   \n",
       "...              ...         ...             ...            ...           ...   \n",
       "39042  Visakhapatnam  2021-06-27       54.661806      99.677917     11.855729   \n",
       "39043  Visakhapatnam  2021-06-28       53.844444      98.625000     11.698437   \n",
       "39044  Visakhapatnam  2021-06-29       54.770139      99.997083     11.622396   \n",
       "39045  Visakhapatnam  2021-06-30       56.077083     101.521944     11.397917   \n",
       "39046  Visakhapatnam  2021-07-01       56.127778     101.650000     11.357292   \n",
       "\n",
       "       NOx_subindex  NH3_subindex  CO_subindex  O3_subindex  \\\n",
       "0               NaN           NaN     46.00000   149.058824   \n",
       "1               NaN           NaN     47.25000    83.710000   \n",
       "2               NaN           NaN    155.37500    66.040000   \n",
       "3               NaN           NaN    140.59375    58.550000   \n",
       "4               NaN           NaN    182.72500    54.702000   \n",
       "...             ...           ...          ...          ...   \n",
       "39042     38.295833      4.532188     31.43750     8.345000   \n",
       "39043     38.007292      4.584167     31.00000     8.577500   \n",
       "39044     38.141146      4.646354     30.43750     8.348750   \n",
       "39045     38.373958      4.697917     31.06250     8.295000   \n",
       "39046     38.598958      4.750625     27.68750     8.267500   \n",
       "\n",
       "      Max_particle_subindex  \n",
       "0               O3_subindex  \n",
       "1               O3_subindex  \n",
       "2               CO_subindex  \n",
       "3               CO_subindex  \n",
       "4               CO_subindex  \n",
       "...                     ...  \n",
       "39042         PM10_subindex  \n",
       "39043         PM10_subindex  \n",
       "39044         PM10_subindex  \n",
       "39045         PM10_subindex  \n",
       "39046         PM10_subindex  \n",
       "\n",
       "[39047 rows x 10 columns]"
      ]
     },
     "execution_count": 7,
     "metadata": {},
     "output_type": "execute_result"
    }
   ],
   "source": [
    "# This is done so that the dates for which the data is not present is not included in the average.\n",
    "city_subindex_df = city_subindex_df.replace(0, np.NaN)\n",
    "city_subindex_df"
   ]
  },
  {
   "cell_type": "code",
   "execution_count": 8,
   "metadata": {},
   "outputs": [
    {
     "data": {
      "text/html": [
       "<div>\n",
       "<style scoped>\n",
       "    .dataframe tbody tr th:only-of-type {\n",
       "        vertical-align: middle;\n",
       "    }\n",
       "\n",
       "    .dataframe tbody tr th {\n",
       "        vertical-align: top;\n",
       "    }\n",
       "\n",
       "    .dataframe thead th {\n",
       "        text-align: right;\n",
       "    }\n",
       "</style>\n",
       "<table border=\"1\" class=\"dataframe\">\n",
       "  <thead>\n",
       "    <tr style=\"text-align: right;\">\n",
       "      <th></th>\n",
       "      <th>City</th>\n",
       "      <th>PM2.5</th>\n",
       "      <th>PM10</th>\n",
       "      <th>SO2</th>\n",
       "      <th>NO</th>\n",
       "      <th>NH3</th>\n",
       "      <th>CO</th>\n",
       "      <th>O3</th>\n",
       "    </tr>\n",
       "  </thead>\n",
       "  <tbody>\n",
       "    <tr>\n",
       "      <th>0</th>\n",
       "      <td>Ahmedabad</td>\n",
       "      <td>128.468878</td>\n",
       "      <td>113.710743</td>\n",
       "      <td>57.130584</td>\n",
       "      <td>56.955292</td>\n",
       "      <td>5.002766</td>\n",
       "      <td>251.468705</td>\n",
       "      <td>39.005262</td>\n",
       "    </tr>\n",
       "    <tr>\n",
       "      <th>1</th>\n",
       "      <td>Aizawl</td>\n",
       "      <td>33.536874</td>\n",
       "      <td>36.580698</td>\n",
       "      <td>11.534159</td>\n",
       "      <td>15.770856</td>\n",
       "      <td>5.573440</td>\n",
       "      <td>13.796269</td>\n",
       "      <td>4.794175</td>\n",
       "    </tr>\n",
       "    <tr>\n",
       "      <th>2</th>\n",
       "      <td>Amaravati</td>\n",
       "      <td>64.934770</td>\n",
       "      <td>69.824496</td>\n",
       "      <td>18.071335</td>\n",
       "      <td>17.023703</td>\n",
       "      <td>3.025559</td>\n",
       "      <td>30.311475</td>\n",
       "      <td>37.779837</td>\n",
       "    </tr>\n",
       "    <tr>\n",
       "      <th>3</th>\n",
       "      <td>Amritsar</td>\n",
       "      <td>101.398753</td>\n",
       "      <td>105.317588</td>\n",
       "      <td>11.039125</td>\n",
       "      <td>43.425751</td>\n",
       "      <td>4.339964</td>\n",
       "      <td>32.214346</td>\n",
       "      <td>22.892324</td>\n",
       "    </tr>\n",
       "    <tr>\n",
       "      <th>4</th>\n",
       "      <td>Bengaluru</td>\n",
       "      <td>59.013795</td>\n",
       "      <td>78.795204</td>\n",
       "      <td>7.082393</td>\n",
       "      <td>24.821189</td>\n",
       "      <td>4.919549</td>\n",
       "      <td>59.124247</td>\n",
       "      <td>32.342772</td>\n",
       "    </tr>\n",
       "    <tr>\n",
       "      <th>5</th>\n",
       "      <td>Bhopal</td>\n",
       "      <td>88.805940</td>\n",
       "      <td>106.985076</td>\n",
       "      <td>19.726153</td>\n",
       "      <td>25.031848</td>\n",
       "      <td>3.996324</td>\n",
       "      <td>44.122038</td>\n",
       "      <td>62.460692</td>\n",
       "    </tr>\n",
       "    <tr>\n",
       "      <th>6</th>\n",
       "      <td>Brajrajnagar</td>\n",
       "      <td>114.190638</td>\n",
       "      <td>103.964006</td>\n",
       "      <td>15.059100</td>\n",
       "      <td>29.610287</td>\n",
       "      <td>7.715336</td>\n",
       "      <td>67.358997</td>\n",
       "      <td>21.048313</td>\n",
       "    </tr>\n",
       "    <tr>\n",
       "      <th>7</th>\n",
       "      <td>Chandigarh</td>\n",
       "      <td>70.956660</td>\n",
       "      <td>87.845688</td>\n",
       "      <td>12.366598</td>\n",
       "      <td>21.917705</td>\n",
       "      <td>11.566563</td>\n",
       "      <td>29.036478</td>\n",
       "      <td>24.175383</td>\n",
       "    </tr>\n",
       "    <tr>\n",
       "      <th>8</th>\n",
       "      <td>Chennai</td>\n",
       "      <td>82.119196</td>\n",
       "      <td>60.479832</td>\n",
       "      <td>10.066303</td>\n",
       "      <td>21.371630</td>\n",
       "      <td>14.436969</td>\n",
       "      <td>46.783781</td>\n",
       "      <td>32.195856</td>\n",
       "    </tr>\n",
       "    <tr>\n",
       "      <th>9</th>\n",
       "      <td>Coimbatore</td>\n",
       "      <td>50.077443</td>\n",
       "      <td>38.500621</td>\n",
       "      <td>11.563998</td>\n",
       "      <td>33.563673</td>\n",
       "      <td>2.115408</td>\n",
       "      <td>39.809443</td>\n",
       "      <td>22.447313</td>\n",
       "    </tr>\n",
       "    <tr>\n",
       "      <th>10</th>\n",
       "      <td>Delhi</td>\n",
       "      <td>223.820623</td>\n",
       "      <td>198.010337</td>\n",
       "      <td>19.535502</td>\n",
       "      <td>71.310621</td>\n",
       "      <td>10.474870</td>\n",
       "      <td>75.724170</td>\n",
       "      <td>48.377780</td>\n",
       "    </tr>\n",
       "    <tr>\n",
       "      <th>11</th>\n",
       "      <td>Ernakulam</td>\n",
       "      <td>42.197619</td>\n",
       "      <td>48.600722</td>\n",
       "      <td>5.331851</td>\n",
       "      <td>23.906795</td>\n",
       "      <td>2.505036</td>\n",
       "      <td>67.726752</td>\n",
       "      <td>NaN</td>\n",
       "    </tr>\n",
       "    <tr>\n",
       "      <th>12</th>\n",
       "      <td>Gurugram</td>\n",
       "      <td>223.190568</td>\n",
       "      <td>157.891581</td>\n",
       "      <td>10.977623</td>\n",
       "      <td>34.193698</td>\n",
       "      <td>8.908378</td>\n",
       "      <td>50.561675</td>\n",
       "      <td>34.099931</td>\n",
       "    </tr>\n",
       "    <tr>\n",
       "      <th>13</th>\n",
       "      <td>Guwahati</td>\n",
       "      <td>134.393882</td>\n",
       "      <td>107.362248</td>\n",
       "      <td>23.430805</td>\n",
       "      <td>43.288322</td>\n",
       "      <td>2.125770</td>\n",
       "      <td>39.759684</td>\n",
       "      <td>23.262547</td>\n",
       "    </tr>\n",
       "    <tr>\n",
       "      <th>14</th>\n",
       "      <td>Hyderabad</td>\n",
       "      <td>82.383085</td>\n",
       "      <td>88.701303</td>\n",
       "      <td>11.031956</td>\n",
       "      <td>24.730203</td>\n",
       "      <td>3.883647</td>\n",
       "      <td>28.886113</td>\n",
       "      <td>31.955944</td>\n",
       "    </tr>\n",
       "    <tr>\n",
       "      <th>15</th>\n",
       "      <td>Jaipur</td>\n",
       "      <td>100.461168</td>\n",
       "      <td>112.462306</td>\n",
       "      <td>14.201424</td>\n",
       "      <td>50.367628</td>\n",
       "      <td>7.975704</td>\n",
       "      <td>43.677757</td>\n",
       "      <td>46.502356</td>\n",
       "    </tr>\n",
       "    <tr>\n",
       "      <th>16</th>\n",
       "      <td>Jorapokhar</td>\n",
       "      <td>125.390555</td>\n",
       "      <td>127.906641</td>\n",
       "      <td>35.666471</td>\n",
       "      <td>NaN</td>\n",
       "      <td>1.737591</td>\n",
       "      <td>43.156874</td>\n",
       "      <td>31.803206</td>\n",
       "    </tr>\n",
       "    <tr>\n",
       "      <th>17</th>\n",
       "      <td>Kochi</td>\n",
       "      <td>52.276476</td>\n",
       "      <td>57.775484</td>\n",
       "      <td>13.528633</td>\n",
       "      <td>53.371023</td>\n",
       "      <td>1.206913</td>\n",
       "      <td>63.698736</td>\n",
       "      <td>5.281363</td>\n",
       "    </tr>\n",
       "    <tr>\n",
       "      <th>18</th>\n",
       "      <td>Kolkata</td>\n",
       "      <td>125.868165</td>\n",
       "      <td>103.064386</td>\n",
       "      <td>11.703303</td>\n",
       "      <td>69.726037</td>\n",
       "      <td>4.601536</td>\n",
       "      <td>40.095626</td>\n",
       "      <td>32.321247</td>\n",
       "    </tr>\n",
       "    <tr>\n",
       "      <th>19</th>\n",
       "      <td>Lucknow</td>\n",
       "      <td>211.950426</td>\n",
       "      <td>183.918732</td>\n",
       "      <td>10.488788</td>\n",
       "      <td>31.466472</td>\n",
       "      <td>8.380796</td>\n",
       "      <td>78.720325</td>\n",
       "      <td>37.240708</td>\n",
       "    </tr>\n",
       "    <tr>\n",
       "      <th>20</th>\n",
       "      <td>Mumbai</td>\n",
       "      <td>70.781795</td>\n",
       "      <td>92.734050</td>\n",
       "      <td>18.072274</td>\n",
       "      <td>65.600795</td>\n",
       "      <td>4.477682</td>\n",
       "      <td>53.398596</td>\n",
       "      <td>30.318769</td>\n",
       "    </tr>\n",
       "    <tr>\n",
       "      <th>21</th>\n",
       "      <td>Patna</td>\n",
       "      <td>217.481694</td>\n",
       "      <td>125.965549</td>\n",
       "      <td>24.737739</td>\n",
       "      <td>55.942777</td>\n",
       "      <td>3.940843</td>\n",
       "      <td>71.618593</td>\n",
       "      <td>35.741597</td>\n",
       "    </tr>\n",
       "    <tr>\n",
       "      <th>22</th>\n",
       "      <td>Shillong</td>\n",
       "      <td>38.091728</td>\n",
       "      <td>32.338944</td>\n",
       "      <td>9.531671</td>\n",
       "      <td>1.258178</td>\n",
       "      <td>0.668270</td>\n",
       "      <td>11.063318</td>\n",
       "      <td>25.845315</td>\n",
       "    </tr>\n",
       "    <tr>\n",
       "      <th>23</th>\n",
       "      <td>Talcher</td>\n",
       "      <td>106.905508</td>\n",
       "      <td>132.817210</td>\n",
       "      <td>33.097395</td>\n",
       "      <td>47.051605</td>\n",
       "      <td>3.020040</td>\n",
       "      <td>83.408577</td>\n",
       "      <td>21.636449</td>\n",
       "    </tr>\n",
       "    <tr>\n",
       "      <th>24</th>\n",
       "      <td>Thiruvananthapuram</td>\n",
       "      <td>45.959616</td>\n",
       "      <td>53.194438</td>\n",
       "      <td>7.280955</td>\n",
       "      <td>13.805114</td>\n",
       "      <td>1.579352</td>\n",
       "      <td>44.092630</td>\n",
       "      <td>32.233979</td>\n",
       "    </tr>\n",
       "    <tr>\n",
       "      <th>25</th>\n",
       "      <td>Visakhapatnam</td>\n",
       "      <td>86.455604</td>\n",
       "      <td>102.505992</td>\n",
       "      <td>15.384616</td>\n",
       "      <td>36.861343</td>\n",
       "      <td>2.990447</td>\n",
       "      <td>39.682329</td>\n",
       "      <td>35.680415</td>\n",
       "    </tr>\n",
       "  </tbody>\n",
       "</table>\n",
       "</div>"
      ],
      "text/plain": [
       "                  City       PM2.5        PM10        SO2         NO  \\\n",
       "0            Ahmedabad  128.468878  113.710743  57.130584  56.955292   \n",
       "1               Aizawl   33.536874   36.580698  11.534159  15.770856   \n",
       "2            Amaravati   64.934770   69.824496  18.071335  17.023703   \n",
       "3             Amritsar  101.398753  105.317588  11.039125  43.425751   \n",
       "4            Bengaluru   59.013795   78.795204   7.082393  24.821189   \n",
       "5               Bhopal   88.805940  106.985076  19.726153  25.031848   \n",
       "6         Brajrajnagar  114.190638  103.964006  15.059100  29.610287   \n",
       "7           Chandigarh   70.956660   87.845688  12.366598  21.917705   \n",
       "8              Chennai   82.119196   60.479832  10.066303  21.371630   \n",
       "9           Coimbatore   50.077443   38.500621  11.563998  33.563673   \n",
       "10               Delhi  223.820623  198.010337  19.535502  71.310621   \n",
       "11           Ernakulam   42.197619   48.600722   5.331851  23.906795   \n",
       "12            Gurugram  223.190568  157.891581  10.977623  34.193698   \n",
       "13            Guwahati  134.393882  107.362248  23.430805  43.288322   \n",
       "14           Hyderabad   82.383085   88.701303  11.031956  24.730203   \n",
       "15              Jaipur  100.461168  112.462306  14.201424  50.367628   \n",
       "16          Jorapokhar  125.390555  127.906641  35.666471        NaN   \n",
       "17               Kochi   52.276476   57.775484  13.528633  53.371023   \n",
       "18             Kolkata  125.868165  103.064386  11.703303  69.726037   \n",
       "19             Lucknow  211.950426  183.918732  10.488788  31.466472   \n",
       "20              Mumbai   70.781795   92.734050  18.072274  65.600795   \n",
       "21               Patna  217.481694  125.965549  24.737739  55.942777   \n",
       "22            Shillong   38.091728   32.338944   9.531671   1.258178   \n",
       "23             Talcher  106.905508  132.817210  33.097395  47.051605   \n",
       "24  Thiruvananthapuram   45.959616   53.194438   7.280955  13.805114   \n",
       "25       Visakhapatnam   86.455604  102.505992  15.384616  36.861343   \n",
       "\n",
       "          NH3          CO         O3  \n",
       "0    5.002766  251.468705  39.005262  \n",
       "1    5.573440   13.796269   4.794175  \n",
       "2    3.025559   30.311475  37.779837  \n",
       "3    4.339964   32.214346  22.892324  \n",
       "4    4.919549   59.124247  32.342772  \n",
       "5    3.996324   44.122038  62.460692  \n",
       "6    7.715336   67.358997  21.048313  \n",
       "7   11.566563   29.036478  24.175383  \n",
       "8   14.436969   46.783781  32.195856  \n",
       "9    2.115408   39.809443  22.447313  \n",
       "10  10.474870   75.724170  48.377780  \n",
       "11   2.505036   67.726752        NaN  \n",
       "12   8.908378   50.561675  34.099931  \n",
       "13   2.125770   39.759684  23.262547  \n",
       "14   3.883647   28.886113  31.955944  \n",
       "15   7.975704   43.677757  46.502356  \n",
       "16   1.737591   43.156874  31.803206  \n",
       "17   1.206913   63.698736   5.281363  \n",
       "18   4.601536   40.095626  32.321247  \n",
       "19   8.380796   78.720325  37.240708  \n",
       "20   4.477682   53.398596  30.318769  \n",
       "21   3.940843   71.618593  35.741597  \n",
       "22   0.668270   11.063318  25.845315  \n",
       "23   3.020040   83.408577  21.636449  \n",
       "24   1.579352   44.092630  32.233979  \n",
       "25   2.990447   39.682329  35.680415  "
      ]
     },
     "execution_count": 8,
     "metadata": {},
     "output_type": "execute_result"
    }
   ],
   "source": [
    "# This founds the average concentration for each particle for each city over all dates.\n",
    "city_average_particle_df = city_subindex_df.groupby('City').mean().reset_index()\n",
    "city_average_particle_df.columns = city_average_particle_df.columns.str.rstrip('_subindex')\n",
    "city_average_particle_df"
   ]
  },
  {
   "cell_type": "code",
   "execution_count": 9,
   "metadata": {},
   "outputs": [
    {
     "data": {
      "application/vnd.plotly.v1+json": {
       "config": {
        "plotlyServerURL": "https://plot.ly"
       },
       "data": [
        {
         "branchvalues": "total",
         "domain": {
          "x": [
           0,
           1
          ],
          "y": [
           0,
           1
          ]
         },
         "hovertemplate": "labels=%{label}<br>value=%{value}<br>parent=%{parent}<br>id=%{id}<extra></extra>",
         "ids": [
          "Ahmedabad/CO",
          "Aizawl/CO",
          "Amaravati/CO",
          "Amritsar/CO",
          "Bengaluru/CO",
          "Bhopal/CO",
          "Brajrajnagar/CO",
          "Chandigarh/CO",
          "Chennai/CO",
          "Coimbatore/CO",
          "Delhi/CO",
          "Ernakulam/CO",
          "Gurugram/CO",
          "Guwahati/CO",
          "Hyderabad/CO",
          "Jaipur/CO",
          "Jorapokhar/CO",
          "Kochi/CO",
          "Kolkata/CO",
          "Lucknow/CO",
          "Mumbai/CO",
          "Patna/CO",
          "Shillong/CO",
          "Talcher/CO",
          "Thiruvananthapuram/CO",
          "Visakhapatnam/CO",
          "Ahmedabad/NH3",
          "Aizawl/NH3",
          "Amaravati/NH3",
          "Amritsar/NH3",
          "Bengaluru/NH3",
          "Bhopal/NH3",
          "Brajrajnagar/NH3",
          "Chandigarh/NH3",
          "Chennai/NH3",
          "Coimbatore/NH3",
          "Delhi/NH3",
          "Ernakulam/NH3",
          "Gurugram/NH3",
          "Guwahati/NH3",
          "Hyderabad/NH3",
          "Jaipur/NH3",
          "Jorapokhar/NH3",
          "Kochi/NH3",
          "Kolkata/NH3",
          "Lucknow/NH3",
          "Mumbai/NH3",
          "Patna/NH3",
          "Shillong/NH3",
          "Talcher/NH3",
          "Thiruvananthapuram/NH3",
          "Visakhapatnam/NH3",
          "Ahmedabad/NO",
          "Aizawl/NO",
          "Amaravati/NO",
          "Amritsar/NO",
          "Bengaluru/NO",
          "Bhopal/NO",
          "Brajrajnagar/NO",
          "Chandigarh/NO",
          "Chennai/NO",
          "Coimbatore/NO",
          "Delhi/NO",
          "Ernakulam/NO",
          "Gurugram/NO",
          "Guwahati/NO",
          "Hyderabad/NO",
          "Jaipur/NO",
          "Jorapokhar/NO",
          "Kochi/NO",
          "Kolkata/NO",
          "Lucknow/NO",
          "Mumbai/NO",
          "Patna/NO",
          "Shillong/NO",
          "Talcher/NO",
          "Thiruvananthapuram/NO",
          "Visakhapatnam/NO",
          "Ahmedabad/O3",
          "Aizawl/O3",
          "Amaravati/O3",
          "Amritsar/O3",
          "Bengaluru/O3",
          "Bhopal/O3",
          "Brajrajnagar/O3",
          "Chandigarh/O3",
          "Chennai/O3",
          "Coimbatore/O3",
          "Delhi/O3",
          "Ernakulam/O3",
          "Gurugram/O3",
          "Guwahati/O3",
          "Hyderabad/O3",
          "Jaipur/O3",
          "Jorapokhar/O3",
          "Kochi/O3",
          "Kolkata/O3",
          "Lucknow/O3",
          "Mumbai/O3",
          "Patna/O3",
          "Shillong/O3",
          "Talcher/O3",
          "Thiruvananthapuram/O3",
          "Visakhapatnam/O3",
          "Ahmedabad/PM10",
          "Aizawl/PM10",
          "Amaravati/PM10",
          "Amritsar/PM10",
          "Bengaluru/PM10",
          "Bhopal/PM10",
          "Brajrajnagar/PM10",
          "Chandigarh/PM10",
          "Chennai/PM10",
          "Coimbatore/PM10",
          "Delhi/PM10",
          "Ernakulam/PM10",
          "Gurugram/PM10",
          "Guwahati/PM10",
          "Hyderabad/PM10",
          "Jaipur/PM10",
          "Jorapokhar/PM10",
          "Kochi/PM10",
          "Kolkata/PM10",
          "Lucknow/PM10",
          "Mumbai/PM10",
          "Patna/PM10",
          "Shillong/PM10",
          "Talcher/PM10",
          "Thiruvananthapuram/PM10",
          "Visakhapatnam/PM10",
          "Ahmedabad/PM2.5",
          "Aizawl/PM2.5",
          "Amaravati/PM2.5",
          "Amritsar/PM2.5",
          "Bengaluru/PM2.5",
          "Bhopal/PM2.5",
          "Brajrajnagar/PM2.5",
          "Chandigarh/PM2.5",
          "Chennai/PM2.5",
          "Coimbatore/PM2.5",
          "Delhi/PM2.5",
          "Ernakulam/PM2.5",
          "Gurugram/PM2.5",
          "Guwahati/PM2.5",
          "Hyderabad/PM2.5",
          "Jaipur/PM2.5",
          "Jorapokhar/PM2.5",
          "Kochi/PM2.5",
          "Kolkata/PM2.5",
          "Lucknow/PM2.5",
          "Mumbai/PM2.5",
          "Patna/PM2.5",
          "Shillong/PM2.5",
          "Talcher/PM2.5",
          "Thiruvananthapuram/PM2.5",
          "Visakhapatnam/PM2.5",
          "Ahmedabad/SO2",
          "Aizawl/SO2",
          "Amaravati/SO2",
          "Amritsar/SO2",
          "Bengaluru/SO2",
          "Bhopal/SO2",
          "Brajrajnagar/SO2",
          "Chandigarh/SO2",
          "Chennai/SO2",
          "Coimbatore/SO2",
          "Delhi/SO2",
          "Ernakulam/SO2",
          "Gurugram/SO2",
          "Guwahati/SO2",
          "Hyderabad/SO2",
          "Jaipur/SO2",
          "Jorapokhar/SO2",
          "Kochi/SO2",
          "Kolkata/SO2",
          "Lucknow/SO2",
          "Mumbai/SO2",
          "Patna/SO2",
          "Shillong/SO2",
          "Talcher/SO2",
          "Thiruvananthapuram/SO2",
          "Visakhapatnam/SO2",
          "Ahmedabad",
          "Aizawl",
          "Amaravati",
          "Amritsar",
          "Bengaluru",
          "Bhopal",
          "Brajrajnagar",
          "Chandigarh",
          "Chennai",
          "Coimbatore",
          "Delhi",
          "Ernakulam",
          "Gurugram",
          "Guwahati",
          "Hyderabad",
          "Jaipur",
          "Jorapokhar",
          "Kochi",
          "Kolkata",
          "Lucknow",
          "Mumbai",
          "Patna",
          "Shillong",
          "Talcher",
          "Thiruvananthapuram",
          "Visakhapatnam"
         ],
         "labels": [
          "CO",
          "CO",
          "CO",
          "CO",
          "CO",
          "CO",
          "CO",
          "CO",
          "CO",
          "CO",
          "CO",
          "CO",
          "CO",
          "CO",
          "CO",
          "CO",
          "CO",
          "CO",
          "CO",
          "CO",
          "CO",
          "CO",
          "CO",
          "CO",
          "CO",
          "CO",
          "NH3",
          "NH3",
          "NH3",
          "NH3",
          "NH3",
          "NH3",
          "NH3",
          "NH3",
          "NH3",
          "NH3",
          "NH3",
          "NH3",
          "NH3",
          "NH3",
          "NH3",
          "NH3",
          "NH3",
          "NH3",
          "NH3",
          "NH3",
          "NH3",
          "NH3",
          "NH3",
          "NH3",
          "NH3",
          "NH3",
          "NO",
          "NO",
          "NO",
          "NO",
          "NO",
          "NO",
          "NO",
          "NO",
          "NO",
          "NO",
          "NO",
          "NO",
          "NO",
          "NO",
          "NO",
          "NO",
          "NO",
          "NO",
          "NO",
          "NO",
          "NO",
          "NO",
          "NO",
          "NO",
          "NO",
          "NO",
          "O3",
          "O3",
          "O3",
          "O3",
          "O3",
          "O3",
          "O3",
          "O3",
          "O3",
          "O3",
          "O3",
          "O3",
          "O3",
          "O3",
          "O3",
          "O3",
          "O3",
          "O3",
          "O3",
          "O3",
          "O3",
          "O3",
          "O3",
          "O3",
          "O3",
          "O3",
          "PM10",
          "PM10",
          "PM10",
          "PM10",
          "PM10",
          "PM10",
          "PM10",
          "PM10",
          "PM10",
          "PM10",
          "PM10",
          "PM10",
          "PM10",
          "PM10",
          "PM10",
          "PM10",
          "PM10",
          "PM10",
          "PM10",
          "PM10",
          "PM10",
          "PM10",
          "PM10",
          "PM10",
          "PM10",
          "PM10",
          "PM2.5",
          "PM2.5",
          "PM2.5",
          "PM2.5",
          "PM2.5",
          "PM2.5",
          "PM2.5",
          "PM2.5",
          "PM2.5",
          "PM2.5",
          "PM2.5",
          "PM2.5",
          "PM2.5",
          "PM2.5",
          "PM2.5",
          "PM2.5",
          "PM2.5",
          "PM2.5",
          "PM2.5",
          "PM2.5",
          "PM2.5",
          "PM2.5",
          "PM2.5",
          "PM2.5",
          "PM2.5",
          "PM2.5",
          "SO2",
          "SO2",
          "SO2",
          "SO2",
          "SO2",
          "SO2",
          "SO2",
          "SO2",
          "SO2",
          "SO2",
          "SO2",
          "SO2",
          "SO2",
          "SO2",
          "SO2",
          "SO2",
          "SO2",
          "SO2",
          "SO2",
          "SO2",
          "SO2",
          "SO2",
          "SO2",
          "SO2",
          "SO2",
          "SO2",
          "Ahmedabad",
          "Aizawl",
          "Amaravati",
          "Amritsar",
          "Bengaluru",
          "Bhopal",
          "Brajrajnagar",
          "Chandigarh",
          "Chennai",
          "Coimbatore",
          "Delhi",
          "Ernakulam",
          "Gurugram",
          "Guwahati",
          "Hyderabad",
          "Jaipur",
          "Jorapokhar",
          "Kochi",
          "Kolkata",
          "Lucknow",
          "Mumbai",
          "Patna",
          "Shillong",
          "Talcher",
          "Thiruvananthapuram",
          "Visakhapatnam"
         ],
         "name": "",
         "parents": [
          "Ahmedabad",
          "Aizawl",
          "Amaravati",
          "Amritsar",
          "Bengaluru",
          "Bhopal",
          "Brajrajnagar",
          "Chandigarh",
          "Chennai",
          "Coimbatore",
          "Delhi",
          "Ernakulam",
          "Gurugram",
          "Guwahati",
          "Hyderabad",
          "Jaipur",
          "Jorapokhar",
          "Kochi",
          "Kolkata",
          "Lucknow",
          "Mumbai",
          "Patna",
          "Shillong",
          "Talcher",
          "Thiruvananthapuram",
          "Visakhapatnam",
          "Ahmedabad",
          "Aizawl",
          "Amaravati",
          "Amritsar",
          "Bengaluru",
          "Bhopal",
          "Brajrajnagar",
          "Chandigarh",
          "Chennai",
          "Coimbatore",
          "Delhi",
          "Ernakulam",
          "Gurugram",
          "Guwahati",
          "Hyderabad",
          "Jaipur",
          "Jorapokhar",
          "Kochi",
          "Kolkata",
          "Lucknow",
          "Mumbai",
          "Patna",
          "Shillong",
          "Talcher",
          "Thiruvananthapuram",
          "Visakhapatnam",
          "Ahmedabad",
          "Aizawl",
          "Amaravati",
          "Amritsar",
          "Bengaluru",
          "Bhopal",
          "Brajrajnagar",
          "Chandigarh",
          "Chennai",
          "Coimbatore",
          "Delhi",
          "Ernakulam",
          "Gurugram",
          "Guwahati",
          "Hyderabad",
          "Jaipur",
          "Jorapokhar",
          "Kochi",
          "Kolkata",
          "Lucknow",
          "Mumbai",
          "Patna",
          "Shillong",
          "Talcher",
          "Thiruvananthapuram",
          "Visakhapatnam",
          "Ahmedabad",
          "Aizawl",
          "Amaravati",
          "Amritsar",
          "Bengaluru",
          "Bhopal",
          "Brajrajnagar",
          "Chandigarh",
          "Chennai",
          "Coimbatore",
          "Delhi",
          "Ernakulam",
          "Gurugram",
          "Guwahati",
          "Hyderabad",
          "Jaipur",
          "Jorapokhar",
          "Kochi",
          "Kolkata",
          "Lucknow",
          "Mumbai",
          "Patna",
          "Shillong",
          "Talcher",
          "Thiruvananthapuram",
          "Visakhapatnam",
          "Ahmedabad",
          "Aizawl",
          "Amaravati",
          "Amritsar",
          "Bengaluru",
          "Bhopal",
          "Brajrajnagar",
          "Chandigarh",
          "Chennai",
          "Coimbatore",
          "Delhi",
          "Ernakulam",
          "Gurugram",
          "Guwahati",
          "Hyderabad",
          "Jaipur",
          "Jorapokhar",
          "Kochi",
          "Kolkata",
          "Lucknow",
          "Mumbai",
          "Patna",
          "Shillong",
          "Talcher",
          "Thiruvananthapuram",
          "Visakhapatnam",
          "Ahmedabad",
          "Aizawl",
          "Amaravati",
          "Amritsar",
          "Bengaluru",
          "Bhopal",
          "Brajrajnagar",
          "Chandigarh",
          "Chennai",
          "Coimbatore",
          "Delhi",
          "Ernakulam",
          "Gurugram",
          "Guwahati",
          "Hyderabad",
          "Jaipur",
          "Jorapokhar",
          "Kochi",
          "Kolkata",
          "Lucknow",
          "Mumbai",
          "Patna",
          "Shillong",
          "Talcher",
          "Thiruvananthapuram",
          "Visakhapatnam",
          "Ahmedabad",
          "Aizawl",
          "Amaravati",
          "Amritsar",
          "Bengaluru",
          "Bhopal",
          "Brajrajnagar",
          "Chandigarh",
          "Chennai",
          "Coimbatore",
          "Delhi",
          "Ernakulam",
          "Gurugram",
          "Guwahati",
          "Hyderabad",
          "Jaipur",
          "Jorapokhar",
          "Kochi",
          "Kolkata",
          "Lucknow",
          "Mumbai",
          "Patna",
          "Shillong",
          "Talcher",
          "Thiruvananthapuram",
          "Visakhapatnam",
          "",
          "",
          "",
          "",
          "",
          "",
          "",
          "",
          "",
          "",
          "",
          "",
          "",
          "",
          "",
          "",
          "",
          "",
          "",
          "",
          "",
          "",
          "",
          "",
          "",
          ""
         ],
         "type": "treemap",
         "values": [
          251.4687051674189,
          13.796268518518314,
          30.31147486772467,
          32.21434623594315,
          59.12424682539666,
          44.12203839422427,
          67.35899731968793,
          29.03647832267217,
          46.783781400637174,
          39.80944264069243,
          75.7241702003999,
          67.72675189393922,
          50.56167450412192,
          39.75968429038263,
          28.886113339617182,
          43.677757359079486,
          43.15687384933044,
          63.69873598758548,
          40.095625913742495,
          78.72032500473787,
          53.39859625701226,
          71.6185930998611,
          11.063317837465311,
          83.40857738585531,
          44.09263034705385,
          39.68232907086862,
          5.002765888052554,
          5.573440337289102,
          3.0255585386932324,
          4.339963714884758,
          4.919549344590387,
          3.9963238813418682,
          7.715336410060982,
          11.566562814966169,
          14.43696914647846,
          2.115407584836474,
          10.474869705453006,
          2.505035716352195,
          8.90837780328855,
          2.1257696778412645,
          3.8836472683829144,
          7.975703809709278,
          1.7375910040301443,
          1.2069130661125016,
          4.60153579290049,
          8.380796055227345,
          4.47768201531249,
          3.9408427129137436,
          0.6682701520718786,
          3.020040030303591,
          1.5793516233756002,
          2.9904474699022985,
          56.955292183050304,
          15.77085636313278,
          17.023703155589576,
          43.42575093698288,
          24.821188990008242,
          25.031848170449297,
          29.610286918660552,
          21.91770466364304,
          21.37162966581344,
          33.563673201941064,
          71.31062099567274,
          23.906794866454245,
          34.193698464031506,
          43.288322134018074,
          24.730203275659065,
          50.36762842972503,
          0,
          53.37102303488399,
          69.72603723724878,
          31.466472460378835,
          65.60079472279156,
          55.942776623706706,
          1.2581775738358831,
          47.05160458710197,
          13.805113814453993,
          36.86134263815666,
          39.00526215918656,
          4.794174674354045,
          37.77983714754384,
          22.892323790994993,
          32.34277197742734,
          62.46069222206494,
          21.048313271787585,
          24.175383386638234,
          32.195856485939906,
          22.447312597809074,
          48.3777804578893,
          0,
          34.0999313312384,
          23.26254698055693,
          31.95594351440403,
          46.5023560653753,
          31.803205791263874,
          5.281363326848244,
          32.32124680440259,
          37.240707611326506,
          30.31876910565792,
          35.74159709733893,
          25.84531487990627,
          21.63644909888915,
          32.23397935217447,
          35.68041528047549,
          113.71074255334182,
          36.58069847391728,
          69.8244960658824,
          105.3175877080614,
          78.79520449268861,
          106.9850761080248,
          103.9640061858537,
          87.84568800651303,
          60.47983157681018,
          38.500621272952436,
          198.01033664376752,
          48.60072203284125,
          157.8915808160562,
          107.36224782410247,
          88.70130306618434,
          112.46230646409964,
          127.90664128491446,
          57.77548351046181,
          103.06438572262438,
          183.91873203345426,
          92.73404983478632,
          125.96554900611707,
          32.338944023825405,
          132.817210321969,
          53.19443791757691,
          102.50599195592811,
          128.4688775880438,
          33.53687431964605,
          64.93477027612428,
          101.39875263847355,
          59.013795249442275,
          88.80593989088986,
          114.19063757060869,
          70.95665958030072,
          82.1191961968369,
          50.077443371806964,
          223.8206234815709,
          42.19761862562402,
          223.19056826093532,
          134.3938822090951,
          82.3830848427849,
          100.46116800429253,
          125.39055518860252,
          52.276475683332514,
          125.86816482549811,
          211.95042586767582,
          70.78179524876555,
          217.48169355358334,
          38.09172787597179,
          106.90550814946515,
          45.959615704305214,
          86.45560391249138,
          57.130584374904124,
          11.534159456604884,
          18.07133526953427,
          11.039124544799177,
          7.08239346214837,
          19.726153051236572,
          15.059100028766528,
          12.366597947159704,
          10.066302834143166,
          11.563997567667181,
          19.535502367699042,
          5.331851178992498,
          10.977623409653399,
          23.430805359338436,
          11.031955652802532,
          14.201423914553008,
          35.66647141288534,
          13.5286332996959,
          11.703303003999007,
          10.488788363275242,
          18.072274301905978,
          24.737739183723992,
          9.531671094151074,
          33.09739544449067,
          7.280955072470489,
          15.384616076602994,
          651.742229913998,
          121.58647214346246,
          240.97117532109226,
          320.6278495701399,
          266.0991503417019,
          351.1280717182316,
          358.94667770542594,
          257.86507472189305,
          267.45356730665924,
          198.07789823770563,
          647.2539038524524,
          190.26877431420343,
          519.8234545893253,
          373.6232584753349,
          271.57225095983495,
          375.64834404683427,
          365.6613385310268,
          247.13862790892043,
          387.38029930041586,
          562.1662473960758,
          335.38396148623207,
          535.4287912772448,
          118.79742343722762,
          427.93678501807483,
          198.14608383141052,
          319.5607464044256
         ]
        }
       ],
       "layout": {
        "height": 700,
        "legend": {
         "tracegroupgap": 0
        },
        "template": {
         "data": {
          "bar": [
           {
            "error_x": {
             "color": "#2a3f5f"
            },
            "error_y": {
             "color": "#2a3f5f"
            },
            "marker": {
             "line": {
              "color": "#E5ECF6",
              "width": 0.5
             },
             "pattern": {
              "fillmode": "overlay",
              "size": 10,
              "solidity": 0.2
             }
            },
            "type": "bar"
           }
          ],
          "barpolar": [
           {
            "marker": {
             "line": {
              "color": "#E5ECF6",
              "width": 0.5
             },
             "pattern": {
              "fillmode": "overlay",
              "size": 10,
              "solidity": 0.2
             }
            },
            "type": "barpolar"
           }
          ],
          "carpet": [
           {
            "aaxis": {
             "endlinecolor": "#2a3f5f",
             "gridcolor": "white",
             "linecolor": "white",
             "minorgridcolor": "white",
             "startlinecolor": "#2a3f5f"
            },
            "baxis": {
             "endlinecolor": "#2a3f5f",
             "gridcolor": "white",
             "linecolor": "white",
             "minorgridcolor": "white",
             "startlinecolor": "#2a3f5f"
            },
            "type": "carpet"
           }
          ],
          "choropleth": [
           {
            "colorbar": {
             "outlinewidth": 0,
             "ticks": ""
            },
            "type": "choropleth"
           }
          ],
          "contour": [
           {
            "colorbar": {
             "outlinewidth": 0,
             "ticks": ""
            },
            "colorscale": [
             [
              0,
              "#0d0887"
             ],
             [
              0.1111111111111111,
              "#46039f"
             ],
             [
              0.2222222222222222,
              "#7201a8"
             ],
             [
              0.3333333333333333,
              "#9c179e"
             ],
             [
              0.4444444444444444,
              "#bd3786"
             ],
             [
              0.5555555555555556,
              "#d8576b"
             ],
             [
              0.6666666666666666,
              "#ed7953"
             ],
             [
              0.7777777777777778,
              "#fb9f3a"
             ],
             [
              0.8888888888888888,
              "#fdca26"
             ],
             [
              1,
              "#f0f921"
             ]
            ],
            "type": "contour"
           }
          ],
          "contourcarpet": [
           {
            "colorbar": {
             "outlinewidth": 0,
             "ticks": ""
            },
            "type": "contourcarpet"
           }
          ],
          "heatmap": [
           {
            "colorbar": {
             "outlinewidth": 0,
             "ticks": ""
            },
            "colorscale": [
             [
              0,
              "#0d0887"
             ],
             [
              0.1111111111111111,
              "#46039f"
             ],
             [
              0.2222222222222222,
              "#7201a8"
             ],
             [
              0.3333333333333333,
              "#9c179e"
             ],
             [
              0.4444444444444444,
              "#bd3786"
             ],
             [
              0.5555555555555556,
              "#d8576b"
             ],
             [
              0.6666666666666666,
              "#ed7953"
             ],
             [
              0.7777777777777778,
              "#fb9f3a"
             ],
             [
              0.8888888888888888,
              "#fdca26"
             ],
             [
              1,
              "#f0f921"
             ]
            ],
            "type": "heatmap"
           }
          ],
          "heatmapgl": [
           {
            "colorbar": {
             "outlinewidth": 0,
             "ticks": ""
            },
            "colorscale": [
             [
              0,
              "#0d0887"
             ],
             [
              0.1111111111111111,
              "#46039f"
             ],
             [
              0.2222222222222222,
              "#7201a8"
             ],
             [
              0.3333333333333333,
              "#9c179e"
             ],
             [
              0.4444444444444444,
              "#bd3786"
             ],
             [
              0.5555555555555556,
              "#d8576b"
             ],
             [
              0.6666666666666666,
              "#ed7953"
             ],
             [
              0.7777777777777778,
              "#fb9f3a"
             ],
             [
              0.8888888888888888,
              "#fdca26"
             ],
             [
              1,
              "#f0f921"
             ]
            ],
            "type": "heatmapgl"
           }
          ],
          "histogram": [
           {
            "marker": {
             "pattern": {
              "fillmode": "overlay",
              "size": 10,
              "solidity": 0.2
             }
            },
            "type": "histogram"
           }
          ],
          "histogram2d": [
           {
            "colorbar": {
             "outlinewidth": 0,
             "ticks": ""
            },
            "colorscale": [
             [
              0,
              "#0d0887"
             ],
             [
              0.1111111111111111,
              "#46039f"
             ],
             [
              0.2222222222222222,
              "#7201a8"
             ],
             [
              0.3333333333333333,
              "#9c179e"
             ],
             [
              0.4444444444444444,
              "#bd3786"
             ],
             [
              0.5555555555555556,
              "#d8576b"
             ],
             [
              0.6666666666666666,
              "#ed7953"
             ],
             [
              0.7777777777777778,
              "#fb9f3a"
             ],
             [
              0.8888888888888888,
              "#fdca26"
             ],
             [
              1,
              "#f0f921"
             ]
            ],
            "type": "histogram2d"
           }
          ],
          "histogram2dcontour": [
           {
            "colorbar": {
             "outlinewidth": 0,
             "ticks": ""
            },
            "colorscale": [
             [
              0,
              "#0d0887"
             ],
             [
              0.1111111111111111,
              "#46039f"
             ],
             [
              0.2222222222222222,
              "#7201a8"
             ],
             [
              0.3333333333333333,
              "#9c179e"
             ],
             [
              0.4444444444444444,
              "#bd3786"
             ],
             [
              0.5555555555555556,
              "#d8576b"
             ],
             [
              0.6666666666666666,
              "#ed7953"
             ],
             [
              0.7777777777777778,
              "#fb9f3a"
             ],
             [
              0.8888888888888888,
              "#fdca26"
             ],
             [
              1,
              "#f0f921"
             ]
            ],
            "type": "histogram2dcontour"
           }
          ],
          "mesh3d": [
           {
            "colorbar": {
             "outlinewidth": 0,
             "ticks": ""
            },
            "type": "mesh3d"
           }
          ],
          "parcoords": [
           {
            "line": {
             "colorbar": {
              "outlinewidth": 0,
              "ticks": ""
             }
            },
            "type": "parcoords"
           }
          ],
          "pie": [
           {
            "automargin": true,
            "type": "pie"
           }
          ],
          "scatter": [
           {
            "marker": {
             "colorbar": {
              "outlinewidth": 0,
              "ticks": ""
             }
            },
            "type": "scatter"
           }
          ],
          "scatter3d": [
           {
            "line": {
             "colorbar": {
              "outlinewidth": 0,
              "ticks": ""
             }
            },
            "marker": {
             "colorbar": {
              "outlinewidth": 0,
              "ticks": ""
             }
            },
            "type": "scatter3d"
           }
          ],
          "scattercarpet": [
           {
            "marker": {
             "colorbar": {
              "outlinewidth": 0,
              "ticks": ""
             }
            },
            "type": "scattercarpet"
           }
          ],
          "scattergeo": [
           {
            "marker": {
             "colorbar": {
              "outlinewidth": 0,
              "ticks": ""
             }
            },
            "type": "scattergeo"
           }
          ],
          "scattergl": [
           {
            "marker": {
             "colorbar": {
              "outlinewidth": 0,
              "ticks": ""
             }
            },
            "type": "scattergl"
           }
          ],
          "scattermapbox": [
           {
            "marker": {
             "colorbar": {
              "outlinewidth": 0,
              "ticks": ""
             }
            },
            "type": "scattermapbox"
           }
          ],
          "scatterpolar": [
           {
            "marker": {
             "colorbar": {
              "outlinewidth": 0,
              "ticks": ""
             }
            },
            "type": "scatterpolar"
           }
          ],
          "scatterpolargl": [
           {
            "marker": {
             "colorbar": {
              "outlinewidth": 0,
              "ticks": ""
             }
            },
            "type": "scatterpolargl"
           }
          ],
          "scatterternary": [
           {
            "marker": {
             "colorbar": {
              "outlinewidth": 0,
              "ticks": ""
             }
            },
            "type": "scatterternary"
           }
          ],
          "surface": [
           {
            "colorbar": {
             "outlinewidth": 0,
             "ticks": ""
            },
            "colorscale": [
             [
              0,
              "#0d0887"
             ],
             [
              0.1111111111111111,
              "#46039f"
             ],
             [
              0.2222222222222222,
              "#7201a8"
             ],
             [
              0.3333333333333333,
              "#9c179e"
             ],
             [
              0.4444444444444444,
              "#bd3786"
             ],
             [
              0.5555555555555556,
              "#d8576b"
             ],
             [
              0.6666666666666666,
              "#ed7953"
             ],
             [
              0.7777777777777778,
              "#fb9f3a"
             ],
             [
              0.8888888888888888,
              "#fdca26"
             ],
             [
              1,
              "#f0f921"
             ]
            ],
            "type": "surface"
           }
          ],
          "table": [
           {
            "cells": {
             "fill": {
              "color": "#EBF0F8"
             },
             "line": {
              "color": "white"
             }
            },
            "header": {
             "fill": {
              "color": "#C8D4E3"
             },
             "line": {
              "color": "white"
             }
            },
            "type": "table"
           }
          ]
         },
         "layout": {
          "annotationdefaults": {
           "arrowcolor": "#2a3f5f",
           "arrowhead": 0,
           "arrowwidth": 1
          },
          "autotypenumbers": "strict",
          "coloraxis": {
           "colorbar": {
            "outlinewidth": 0,
            "ticks": ""
           }
          },
          "colorscale": {
           "diverging": [
            [
             0,
             "#8e0152"
            ],
            [
             0.1,
             "#c51b7d"
            ],
            [
             0.2,
             "#de77ae"
            ],
            [
             0.3,
             "#f1b6da"
            ],
            [
             0.4,
             "#fde0ef"
            ],
            [
             0.5,
             "#f7f7f7"
            ],
            [
             0.6,
             "#e6f5d0"
            ],
            [
             0.7,
             "#b8e186"
            ],
            [
             0.8,
             "#7fbc41"
            ],
            [
             0.9,
             "#4d9221"
            ],
            [
             1,
             "#276419"
            ]
           ],
           "sequential": [
            [
             0,
             "#0d0887"
            ],
            [
             0.1111111111111111,
             "#46039f"
            ],
            [
             0.2222222222222222,
             "#7201a8"
            ],
            [
             0.3333333333333333,
             "#9c179e"
            ],
            [
             0.4444444444444444,
             "#bd3786"
            ],
            [
             0.5555555555555556,
             "#d8576b"
            ],
            [
             0.6666666666666666,
             "#ed7953"
            ],
            [
             0.7777777777777778,
             "#fb9f3a"
            ],
            [
             0.8888888888888888,
             "#fdca26"
            ],
            [
             1,
             "#f0f921"
            ]
           ],
           "sequentialminus": [
            [
             0,
             "#0d0887"
            ],
            [
             0.1111111111111111,
             "#46039f"
            ],
            [
             0.2222222222222222,
             "#7201a8"
            ],
            [
             0.3333333333333333,
             "#9c179e"
            ],
            [
             0.4444444444444444,
             "#bd3786"
            ],
            [
             0.5555555555555556,
             "#d8576b"
            ],
            [
             0.6666666666666666,
             "#ed7953"
            ],
            [
             0.7777777777777778,
             "#fb9f3a"
            ],
            [
             0.8888888888888888,
             "#fdca26"
            ],
            [
             1,
             "#f0f921"
            ]
           ]
          },
          "colorway": [
           "#636efa",
           "#EF553B",
           "#00cc96",
           "#ab63fa",
           "#FFA15A",
           "#19d3f3",
           "#FF6692",
           "#B6E880",
           "#FF97FF",
           "#FECB52"
          ],
          "font": {
           "color": "#2a3f5f"
          },
          "geo": {
           "bgcolor": "white",
           "lakecolor": "white",
           "landcolor": "#E5ECF6",
           "showlakes": true,
           "showland": true,
           "subunitcolor": "white"
          },
          "hoverlabel": {
           "align": "left"
          },
          "hovermode": "closest",
          "mapbox": {
           "style": "light"
          },
          "paper_bgcolor": "white",
          "plot_bgcolor": "#E5ECF6",
          "polar": {
           "angularaxis": {
            "gridcolor": "white",
            "linecolor": "white",
            "ticks": ""
           },
           "bgcolor": "#E5ECF6",
           "radialaxis": {
            "gridcolor": "white",
            "linecolor": "white",
            "ticks": ""
           }
          },
          "scene": {
           "xaxis": {
            "backgroundcolor": "#E5ECF6",
            "gridcolor": "white",
            "gridwidth": 2,
            "linecolor": "white",
            "showbackground": true,
            "ticks": "",
            "zerolinecolor": "white"
           },
           "yaxis": {
            "backgroundcolor": "#E5ECF6",
            "gridcolor": "white",
            "gridwidth": 2,
            "linecolor": "white",
            "showbackground": true,
            "ticks": "",
            "zerolinecolor": "white"
           },
           "zaxis": {
            "backgroundcolor": "#E5ECF6",
            "gridcolor": "white",
            "gridwidth": 2,
            "linecolor": "white",
            "showbackground": true,
            "ticks": "",
            "zerolinecolor": "white"
           }
          },
          "shapedefaults": {
           "line": {
            "color": "#2a3f5f"
           }
          },
          "ternary": {
           "aaxis": {
            "gridcolor": "white",
            "linecolor": "white",
            "ticks": ""
           },
           "baxis": {
            "gridcolor": "white",
            "linecolor": "white",
            "ticks": ""
           },
           "bgcolor": "#E5ECF6",
           "caxis": {
            "gridcolor": "white",
            "linecolor": "white",
            "ticks": ""
           }
          },
          "title": {
           "x": 0.05
          },
          "xaxis": {
           "automargin": true,
           "gridcolor": "white",
           "linecolor": "white",
           "ticks": "",
           "title": {
            "standoff": 15
           },
           "zerolinecolor": "white",
           "zerolinewidth": 2
          },
          "yaxis": {
           "automargin": true,
           "gridcolor": "white",
           "linecolor": "white",
           "ticks": "",
           "title": {
            "standoff": 15
           },
           "zerolinecolor": "white",
           "zerolinewidth": 2
          }
         }
        },
        "title": {
         "text": "Cities and the proportion of pollution in each"
        },
        "width": 1400
       }
      }
     },
     "metadata": {},
     "output_type": "display_data"
    }
   ],
   "source": [
    "fig = px.treemap(pd.melt(city_average_particle_df, id_vars = 'City'), path=['City','variable'], values=pd.melt(city_average_particle_df, id_vars = 'City')['value'], title = 'Cities and the proportion of pollution in each', width=1400, height=700)\n",
    "fig.show()"
   ]
  }
 ],
 "metadata": {
  "interpreter": {
   "hash": "31f2aee4e71d21fbe5cf8b01ff0e069b9275f58929596ceb00d14d90e3e16cd6"
  },
  "kernelspec": {
   "display_name": "Python 3.8.10 64-bit",
   "language": "python",
   "name": "python3"
  },
  "language_info": {
   "codemirror_mode": {
    "name": "ipython",
    "version": 3
   },
   "file_extension": ".py",
   "mimetype": "text/x-python",
   "name": "python",
   "nbconvert_exporter": "python",
   "pygments_lexer": "ipython3",
   "version": "3.8.10"
  },
  "orig_nbformat": 4
 },
 "nbformat": 4,
 "nbformat_minor": 2
}
